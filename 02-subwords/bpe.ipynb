{
 "cells": [
  {
   "cell_type": "markdown",
   "metadata": {},
   "source": [
    "# Byte Pair Encoding Example"
   ]
  },
  {
   "cell_type": "code",
   "execution_count": 1,
   "metadata": {},
   "outputs": [],
   "source": [
    "import collections\n",
    "import re"
   ]
  },
  {
   "cell_type": "code",
   "execution_count": 2,
   "metadata": {},
   "outputs": [],
   "source": [
    "def get_stats(vocab: dict[str, int]) -> dict[tuple[str, str], int]:\n",
    "    # 获取词汇表中各个符号对（即字符对或子词对）的频率\n",
    "    pairs = collections.defaultdict(int) # 默认值是 int 类型，即默认值为 0\n",
    "    for word, freq in vocab.items():\n",
    "        symbols = word.split()\n",
    "        for i in range(len(symbols)-1):\n",
    "            pairs[symbols[i], symbols[i+1]] += freq\n",
    "    return pairs"
   ]
  },
  {
   "cell_type": "code",
   "execution_count": 3,
   "metadata": {},
   "outputs": [],
   "source": [
    "def merge_vocab(pair: tuple[str, str], v_in: dict[str, int]) -> dict[str, int]:\n",
    "    # 合并词汇表中的某个符号对，并返回更新后的词汇表\n",
    "    v_out = {}\n",
    "    # 将符号对连接成一个字符串，中间以空格分隔，然后用 re.escape 函数对其进行转义，以便在正则表达式中使用\n",
    "    bigram = re.escape(' '.join(pair))\n",
    "    # (?<!\\S) 确保前面是空白或字符串的开始，(?!\\S) 确保后面是空白或字符串的结束\n",
    "    p = re.compile(r'(?<!\\S)' + bigram + r'(?!\\S)')\n",
    "    for word in v_in:\n",
    "        w_out = p.sub(''.join(pair), word) # 将匹配的符号对替换为它们合并后的形式\n",
    "        v_out[w_out] = v_in[word]\n",
    "    return v_out"
   ]
  },
  {
   "cell_type": "code",
   "execution_count": 4,
   "metadata": {},
   "outputs": [
    {
     "name": "stdout",
     "output_type": "stream",
     "text": [
      "vocab={'l o w </w>': 5, 'l o w e r </w>': 2, 'n e w e s t </w>': 6, 'w i d e s t </w>': 3}\n",
      "top_pairs=[(('e', 's'), 9), (('s', 't'), 9), (('t', '</w>'), 9), (('w', 'e'), 8), (('l', 'o'), 7)]\n",
      "best=('e', 's'): 9\n",
      "vocab={'l o w </w>': 5, 'l o w e r </w>': 2, 'n e w es t </w>': 6, 'w i d es t </w>': 3}\n",
      "top_pairs=[(('es', 't'), 9), (('t', '</w>'), 9), (('l', 'o'), 7), (('o', 'w'), 7), (('n', 'e'), 6)]\n",
      "best=('es', 't'): 9\n",
      "vocab={'l o w </w>': 5, 'l o w e r </w>': 2, 'n e w est </w>': 6, 'w i d est </w>': 3}\n",
      "top_pairs=[(('est', '</w>'), 9), (('l', 'o'), 7), (('o', 'w'), 7), (('n', 'e'), 6), (('e', 'w'), 6)]\n",
      "best=('est', '</w>'): 9\n",
      "vocab={'l o w </w>': 5, 'l o w e r </w>': 2, 'n e w est</w>': 6, 'w i d est</w>': 3}\n",
      "top_pairs=[(('l', 'o'), 7), (('o', 'w'), 7), (('n', 'e'), 6), (('e', 'w'), 6), (('w', 'est</w>'), 6)]\n",
      "best=('l', 'o'): 7\n",
      "vocab={'lo w </w>': 5, 'lo w e r </w>': 2, 'n e w est</w>': 6, 'w i d est</w>': 3}\n",
      "top_pairs=[(('lo', 'w'), 7), (('n', 'e'), 6), (('e', 'w'), 6), (('w', 'est</w>'), 6), (('w', '</w>'), 5)]\n",
      "best=('lo', 'w'): 7\n",
      "vocab={'low </w>': 5, 'low e r </w>': 2, 'n e w est</w>': 6, 'w i d est</w>': 3}\n",
      "top_pairs=[(('n', 'e'), 6), (('e', 'w'), 6), (('w', 'est</w>'), 6), (('low', '</w>'), 5), (('w', 'i'), 3)]\n",
      "best=('n', 'e'): 6\n",
      "vocab={'low </w>': 5, 'low e r </w>': 2, 'ne w est</w>': 6, 'w i d est</w>': 3}\n",
      "top_pairs=[(('ne', 'w'), 6), (('w', 'est</w>'), 6), (('low', '</w>'), 5), (('w', 'i'), 3), (('i', 'd'), 3)]\n",
      "best=('ne', 'w'): 6\n",
      "vocab={'low </w>': 5, 'low e r </w>': 2, 'new est</w>': 6, 'w i d est</w>': 3}\n",
      "top_pairs=[(('new', 'est</w>'), 6), (('low', '</w>'), 5), (('w', 'i'), 3), (('i', 'd'), 3), (('d', 'est</w>'), 3)]\n",
      "best=('new', 'est</w>'): 6\n",
      "vocab={'low </w>': 5, 'low e r </w>': 2, 'newest</w>': 6, 'w i d est</w>': 3}\n",
      "top_pairs=[(('low', '</w>'), 5), (('w', 'i'), 3), (('i', 'd'), 3), (('d', 'est</w>'), 3), (('low', 'e'), 2)]\n",
      "best=('low', '</w>'): 5\n",
      "vocab={'low</w>': 5, 'low e r </w>': 2, 'newest</w>': 6, 'w i d est</w>': 3}\n",
      "top_pairs=[(('w', 'i'), 3), (('i', 'd'), 3), (('d', 'est</w>'), 3), (('low', 'e'), 2), (('e', 'r'), 2)]\n",
      "best=('w', 'i'): 3\n"
     ]
    }
   ],
   "source": [
    "vocab = {\n",
    "    'l o w </w>' : 5,\n",
    "    'l o w e r </w>' : 2,\n",
    "    'n e w e s t </w>': 6,\n",
    "    'w i d e s t </w>': 3,\n",
    "}\n",
    "num_merges = 10\n",
    "\n",
    "for i in range(num_merges):\n",
    "    print(f\"{vocab=}\")\n",
    "    pairs = get_stats(vocab)\n",
    "    top_pairs = sorted(list(pairs.items()), key=lambda x: x[1], reverse=True)[:5] # 打印出这前 5 个频率最高的符号对\n",
    "    print(f\"{top_pairs=}\")\n",
    "    best = top_pairs[0][0]\n",
    "    vocab = merge_vocab(best, vocab)\n",
    "    print(f\"best={best}: {pairs[best]}\")"
   ]
  },
  {
   "cell_type": "code",
   "execution_count": 5,
   "metadata": {},
   "outputs": [
    {
     "name": "stdout",
     "output_type": "stream",
     "text": [
      "{'low</w>': 5, 'low e r </w>': 2, 'newest</w>': 6, 'wi d est</w>': 3}\n"
     ]
    }
   ],
   "source": [
    "print(vocab)"
   ]
  },
  {
   "cell_type": "code",
   "execution_count": null,
   "metadata": {},
   "outputs": [],
   "source": []
  }
 ],
 "metadata": {
  "kernelspec": {
   "display_name": "learn",
   "language": "python",
   "name": "python3"
  },
  "language_info": {
   "codemirror_mode": {
    "name": "ipython",
    "version": 3
   },
   "file_extension": ".py",
   "mimetype": "text/x-python",
   "name": "python",
   "nbconvert_exporter": "python",
   "pygments_lexer": "ipython3",
   "version": "3.12.5"
  },
  "orig_nbformat": 4
 },
 "nbformat": 4,
 "nbformat_minor": 2
}
